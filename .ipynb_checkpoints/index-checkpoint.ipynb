{
 "cells": [
  {
   "attachments": {},
   "cell_type": "markdown",
   "metadata": {},
   "source": [
    "# Using Computation to Understand Molecular Modeling"
   ]
  },
  {
   "attachments": {},
   "cell_type": "markdown",
   "metadata": {},
   "source": [
    "Wolfgang Christian<sup>1</sup>, Haim Edri<sup>2</sup>, Sam Safran<sup>3</sup> and Edit Yerushalmi<sup>2</sup>\n",
    "and Ben Dreyfus<sup>4</sup>\n",
    "\n",
    "<sup>1</sup> Davidson College, USA\n",
    "\n",
    "<sup>2</sup> Weizmann Institute of Science, Department of Science Teaching, Israel\n",
    "\n",
    "<sup>3</sup> Weizmann Institute of Science, Department of Chemical and Biological Physics, Israel\n",
    "\n",
    "<sup>4</sup> George Mason University, USA\n",
    "\n",
    "The Jupyter notebooks in this Binder were developed by Wolfgang Christian based on material for a Grade 10 interdisciplinary computer science course developed by Haim Edri, Sam Safran and Edit Yerushalmi at the Weizmann Institute of Science.  These proof-of-concept notebooks are a small sample of work done at the Weizmann to explore the potential for adapting Weizmann Institute material for use in the United States.\n",
    "\n",
    "The work on the original materials was supported by the Department of Science Teaching and the Davidson Institute of Science Education in Weizmann Institute of Science, Rehovot, Israel. The work on the adapted materials was partially funded by the AAPT Living Physics Portal NSF Grants DUE-1624185 and DUE-1733904.\n",
    "\n",
    "\n",
    "<img align=\"right\" style=\"padding-right:10px;\" src=\"figures/nsf.jpg\">\n"
   ]
  },
  {
   "cell_type": "markdown",
   "metadata": {},
   "source": [
    "## Table of Contents\n",
    "\n",
    "### 1. Pre-Test\n",
    "- [Question 1: Ball Inside Tube](pretest/pretestQ1.ipynb)\n",
    "- [Question 2: Newton's Laws](pretest/pretestQ2.ipynb)\n",
    "- [Question 3: Collisions](pretest/pretestQ3.ipynb)\n",
    "\n",
    "**Instructor Resources**\n",
    "- [Question 1: Divide the code (Key)](pretest/pretestQ1-Key.ipynb)\n",
    "\n",
    "### 2. Build The Model\n",
    "- [Project 1: Disk-Wall Collisions (Key)](diskwall/diskwall.ipynb)\n",
    "- [Project 2: Disk-Disk Collisions (Key)](diskdisk/diskdisk.ipynb)\n",
    "\n",
    "### 3 . Predict and Investigate\n",
    "- [Predict](inquiry/predict.ipynb)\n",
    "- [Investigate](inquiry/inquiry.ipynb)\n",
    "\n",
    "### VPhyton Resources\n",
    "- [VPython Home Page](http://www.glowscript.org/docs/VPythonDocs/index.html)\n",
    "- [VPython Tutorial](http://www.glowscript.org/docs/VPythonDocs/VPython_Intro.pdf)\n",
    "- [GlowScript Examples](http://www.glowscript.org/#/user/GlowScriptDemos/folder/Examples/)\n"
   ]
  },
  {
   "cell_type": "markdown",
   "metadata": {},
   "source": [
    "<img align=\"left\" style=\"padding-right:10px;\" src=\"figures/Davidson.png\">\n",
    "<img align=\"right\" style=\"padding-right:10px;\" src=\"figures/Weizmann.png\">"
   ]
  }
 ],
 "metadata": {
  "anaconda-cloud": {},
  "kernelspec": {
   "display_name": "Python 3",
   "language": "python",
   "name": "python3"
  },
  "language_info": {
   "codemirror_mode": {
    "name": "ipython",
    "version": 3
   },
   "file_extension": ".py",
   "mimetype": "text/x-python",
   "name": "python",
   "nbconvert_exporter": "python",
   "pygments_lexer": "ipython3",
   "version": "3.6.5"
  }
 },
 "nbformat": 4,
 "nbformat_minor": 1
}
