{
 "cells": [
  {
   "cell_type": "markdown",
   "metadata": {},
   "source": [
    "<!--NAVIGATION-->\n",
    "< [Disk-Wall](../diskwall/diskwall.ipynb) | [Return to Table of Contents](../index.ipynb) >"
   ]
  },
  {
   "cell_type": "markdown",
   "metadata": {},
   "source": [
    "Disk Disk Collisions (Instructor Key)\n",
    "===========================\n",
    "\n",
    "**Figure 1:** Energy and momentum are conserved when molecules collide: ![Alt](./diskdiskcollision.png \"Velocities before collision.\")\n",
    "\n",
    "Develop a Phython implementation of a two-dimensional disk-disk collision and test your simulation.  \n",
    "###### Worksheet: [English](diskdisk_worksheet_en.pdf) or [Hebrew](diskdisk_worksheet_he.pdf)\n",
    "\n"
   ]
  },
  {
   "cell_type": "markdown",
   "metadata": {},
   "source": [
    "## Sample code\n",
    "Note that the Euler algorithm used in this code produces energy drift.  Reduce the time step dt to reduce the energy drift.  Higher order or symplectic algorithms, such as the Verlet algorithm, will reduce or eliminate this drift."
   ]
  },
  {
   "cell_type": "code",
   "execution_count": null,
   "metadata": {
    "code_folding": []
   },
   "outputs": [
    {
     "data": {
      "application/javascript": [
       "require.undef(\"nbextensions/vpython_libraries/glow.min\");"
      ],
      "text/plain": [
       "<IPython.core.display.Javascript object>"
      ]
     },
     "metadata": {},
     "output_type": "display_data"
    },
    {
     "data": {
      "application/javascript": [
       "require.undef(\"nbextensions/vpython_libraries/glowcomm\");"
      ],
      "text/plain": [
       "<IPython.core.display.Javascript object>"
      ]
     },
     "metadata": {},
     "output_type": "display_data"
    },
    {
     "data": {
      "application/javascript": [
       "require.undef(\"nbextensions/vpython_libraries/jquery-ui.custom.min\");"
      ],
      "text/plain": [
       "<IPython.core.display.Javascript object>"
      ]
     },
     "metadata": {},
     "output_type": "display_data"
    },
    {
     "data": {
      "application/javascript": [
       "require([\"nbextensions/vpython_libraries/glow.min\"], function(){console.log(\"GLOW LOADED\");})"
      ],
      "text/plain": [
       "<IPython.core.display.Javascript object>"
      ]
     },
     "metadata": {},
     "output_type": "display_data"
    },
    {
     "data": {
      "application/javascript": [
       "require([\"nbextensions/vpython_libraries/glowcomm\"], function(){console.log(\"GLOWCOMM LOADED\");})"
      ],
      "text/plain": [
       "<IPython.core.display.Javascript object>"
      ]
     },
     "metadata": {},
     "output_type": "display_data"
    },
    {
     "data": {
      "application/javascript": [
       "require([\"nbextensions/vpython_libraries/jquery-ui.custom.min\"], function(){console.log(\"JQUERY LOADED\");})"
      ],
      "text/plain": [
       "<IPython.core.display.Javascript object>"
      ]
     },
     "metadata": {},
     "output_type": "display_data"
    },
    {
     "data": {
      "text/html": [
       "<div id=\"glowscript\" class=\"glowscript\"></div>"
      ],
      "text/plain": [
       "<IPython.core.display.HTML object>"
      ]
     },
     "metadata": {},
     "output_type": "display_data"
    },
    {
     "data": {
      "application/javascript": [
       "window.__context = { glowscript_container: $(\"#glowscript\").removeAttr(\"id\")}"
      ],
      "text/plain": [
       "<IPython.core.display.Javascript object>"
      ]
     },
     "metadata": {},
     "output_type": "display_data"
    },
    {
     "data": {
      "text/html": [
       "<div id=\"glowscript\" class=\"glowscript\"></div>"
      ],
      "text/plain": [
       "<IPython.core.display.HTML object>"
      ]
     },
     "metadata": {},
     "output_type": "display_data"
    },
    {
     "data": {
      "application/javascript": [
       "window.__context = { glowscript_container: $(\"#glowscript\").removeAttr(\"id\")}"
      ],
      "text/plain": [
       "<IPython.core.display.Javascript object>"
      ]
     },
     "metadata": {},
     "output_type": "display_data"
    }
   ],
   "source": [
    "# Hard disk gas with Histogram was developed by W. Christian based on code from\n",
    "# Haim Erdi at the Weizmann Institute.\n",
    "from vpython import *\n",
    "from numpy import *\n",
    "\n",
    "# Hard-disk gas with simple Euler algorithm evolution\n",
    "### Set the scene ###\n",
    "win = 450\n",
    "scene=vpython.canvas(width=win, height=win, align='left')\n",
    "scene.userzoom = False\n",
    "scene.background = color.white\n",
    "scene.fov = 0.01\n",
    "scene.userzoom= False\n",
    "scene.userspin = False\n",
    "scene.autoscale = False\n",
    "\n",
    "# Typical values\n",
    "N = 50                                        # number of paticles\n",
    "mass = 1.0                                  # mass of paticles\n",
    "k = 1                                           # Boltzmann's constant\n",
    "L = 5.0                                       # dimensions of the box containing the particles\n",
    "R = 0.20                                     # particle radius\n",
    "A = 50000                                  # force magnitude of particle-particle interaction\n",
    "v0 = 100.00                                # initial velocities range\n",
    "T = 0.5 * mass * v0 * v0 / k       # Temperature\n",
    "dt = 0.0005                                 # time step\n",
    "t = 0                                            # time\n",
    "deltav = 20                                 # bin size for v histogram\n",
    "nbins = 25                                  # number of bins\n",
    "histo = []                                     # histogram bins\n",
    "nhisto = 0                                   # number of histogram snapshots that are being averaged\n",
    "r = []                                           # position vector list\n",
    "v = []                                           # velocity vector list\n",
    "a = []                                           # acceleration vector list\n",
    "particles = []                                # particle list ; each particle is a vpython cylinder\n",
    "accum = []                                   # stores for histogram averages\n",
    "run = False\n",
    "done = False\n",
    "\n",
    "\n",
    "###############  USER INMTERFACE  ###################\n",
    "def Runb(r):\n",
    "    global run\n",
    "    run = not run\n",
    "    if run:\n",
    "        r.text = \"Pause\"\n",
    "        if done: \n",
    "            reset()\n",
    "            run = True\n",
    "    else:\n",
    "        r.text = \"Run\"\n",
    "        \n",
    "Runbutton = button(text=\"Run\", pos=scene.title_anchor, bind=Runb)\n",
    "\n",
    "def clearHistogram():\n",
    "    global accum, histo, nhisto\n",
    "    nbin = len(histo)\n",
    "    for i in range(len(accum)):\n",
    "        accum[i][1] = 0\n",
    "    nhisto = 0\n",
    "    histo = speedHistogram(v, histo)\n",
    "    # Accumulate and average histogram snapshots\n",
    "    for i in range(nbins):\n",
    "        accum[i][1] = (nhisto * accum[i][1] + histo[i]) / (nhisto + 1)\n",
    "    if nhisto % 10 == 0:\n",
    "        vdist.data = accum\n",
    "    nhisto += 1\n",
    "    vdist.data = accum\n",
    "\n",
    "    \n",
    "histoButton= button(text=\"Clear Histogram\", pos=scene.title_anchor, bind=clearHistogram)\n",
    "    \n",
    "def reset():\n",
    "    global run, v, t, disk\n",
    "    run = False\n",
    "    Runbutton.text = \"Run\"\n",
    "    for i in range(N):                       \n",
    "        particles[i].pos.x = random.uniform(-L + 2 * R, 0 - 2 * R)\n",
    "        particles[i].pos.y = random.uniform(-L + 2 * R, L - 2 * R)\n",
    "        v[i].x=random.uniform(-v0, v0)\n",
    "        v[i].y=random.uniform(-v0, v0)\n",
    "        a[i].x=0\n",
    "        a[i].y=0\n",
    "    clearHistogram();\n",
    "    \n",
    "ResetButton=button(text=\"Reset\",pos=scene.title_anchor, bind=reset)\n",
    "\n",
    "\n",
    "def speedHistogram(v, bins):\n",
    "    nbin = len(bins)\n",
    "    for i in range(nbin):\n",
    "        bins[i] = 0\n",
    "    nv = len(v)\n",
    "    for i in range(nv):\n",
    "        speed = math.sqrt(v[i].x * v[i].x + v[i].y * v[i].y)\n",
    "        index = int(min(speed / deltav, nbin - 1))\n",
    "        bins[index] += 1.0\n",
    "    return bins\n",
    "\n",
    "\n",
    "# Advance the position and velocity vectors using the Euler algorithm\n",
    "def eulerAlgorithm(n, r, v, a):\n",
    "    for i in range(n):\n",
    "        v[i] = v[i] + a[i] * dt  # compute the new velocity of each particle\n",
    "        r[i] = r[i] + v[i] * dt  # compute the new position of each particle\n",
    "\n",
    "\n",
    "# Reflect  particles at boundary located at +/- d\n",
    "def wallBounce(n, r, v, d):\n",
    "    for i in range(n):\n",
    "        if (v[i].x > 0 and r[i].x) > d:\n",
    "            v[i].x = -abs(v[i].x)\n",
    "        if (v[i].x < 0 and r[i].x) < - d:\n",
    "            v[i].x = abs(v[i].x)\n",
    "        if (v[i].y > 0 and r[i].y) > d:\n",
    "            v[i].y = -abs(v[i].y)\n",
    "        if (v[i].y < 0 and r[i].y) < - d:\n",
    "            v[i].y = abs(v[i].y)\n",
    "\n",
    "\n",
    "\n",
    "box(canvas=scene, size=vector(2 * L, 2 * L, 0))    # container for hard disks\n",
    "\n",
    "#________________  Create lists for N particles and their postion and velocity  ______________#\n",
    "# Particles are distributed randomely in left side of box (rho_0*L x rho_0*L x rho_0*L)\n",
    "# Particles have random initial velocity vectors in the range [-vo,v0]\n",
    "for i in range(N):\n",
    "    particle = cylinder(canvas=scene, pos=vector(random.uniform(-L + 2 * R, 0 - 2 * R),\n",
    "                                   random.uniform(-L + 2 * R, L - 2 * R), 0), radius=R, axis=vector(0, 0, R / 5))\n",
    "    particles.append(particle)\n",
    "    r.append(particle.pos)          # particle position vector\n",
    "    velocity = vector(random.uniform(-v0, v0), random.uniform(-v0, v0), 0)\n",
    "    v.append(velocity)              # particle velocity vector\n",
    "    a.append(vector(0, 0, 0))      # partcle acceleration vector\n",
    "\n",
    "# create and initialize histogram bins\n",
    "for i in range(nbins):\n",
    "    histo.append(0.0)\n",
    "\n",
    "# create histogram graph\n",
    "histgraph = graph(width=450, height=win, xmax=deltav * nbins, ymax=N * deltav / 100, align='right')\n",
    "theory = gcurve(graph=histgraph, color=color.cyan)\n",
    "\n",
    "for vel in range(0, deltav * nbins + 10, 10):  # theoretical prediction\n",
    "    b2 = 2 * k * T / mass\n",
    "    theory.plot( vel, deltav * N * (2 * vel / b2) * exp(-vel * vel / b2))\n",
    "\n",
    "for i in range(nbins):\n",
    "    accum.append([deltav * (i + .5), 0])\n",
    "vdist = gvbars(graph=histgraph, color=color.red, delta=deltav)\n",
    "clearHistogram()  #  shows initial histogram\n",
    "while not done:\n",
    "    vpython.rate(100)\n",
    "    if not run:\n",
    "        continue\n",
    "    histo = speedHistogram(v, histo)\n",
    "    # Accumulate and average histogram snapshots\n",
    "    for i in range(nbins):\n",
    "        accum[i][1] = (nhisto * accum[i][1] + histo[i]) / (nhisto + 1)\n",
    "    if nhisto % 10 == 0:\n",
    "        vdist.data = accum\n",
    "    nhisto += 1\n",
    "\n",
    "    for i in range(N):  # zero acceleration vector before starting the sum\n",
    "        a[i].x = 0\n",
    "        a[i].y = 0\n",
    "\n",
    "    #_________ particle - particle Collisions ____#\n",
    "    for i in range(N):    # i indicates one of the particles\n",
    "        for j in range(i + 1, N, 1):\n",
    "            dr = r[i] - r[j]      # distance between particle i and particle j\n",
    "            r_hat = dr / mag(dr)\n",
    "            if mag(dr) < 2 * R:\n",
    "                F = A * r_hat    # assume constant interaction in radial direction while colliding\n",
    "            else:\n",
    "                F = vector(0, 0, 0)\n",
    "            # Use Newton's 2nd and 3rd laws\n",
    "            a[i] = a[i] + F / mass\n",
    "            a[j] = a[j] - F / mass\n",
    "    eulerAlgorithm(N, r, v, a)              # compute the  new position and velocity\n",
    "    wallBounce(N, r, v, L - 2 * R)       # check to make sure partilces are within walls\n",
    "    t += dt                                            # advance time\n",
    "    for i in range(N):                           # move the screen objects to their new positions\n",
    "        particles[i].pos = r[i]\n",
    "\n"
   ]
  },
  {
   "cell_type": "markdown",
   "metadata": {},
   "source": [
    "References:\n",
    "========================\n",
    "\n",
    "The wall collisions are discussed in mechanics textbooks.\n",
    "\n",
    "-   *Analytical Mechanics 5 ed* by Grant R. Fowles and George L.\n",
    "    Cassiday, Saunders College Publishing (1993)\n",
    "\n",
    "There are many laboratory and computer experiments that build on the\n",
    "basic model.\n",
    "\n",
    "-   \"The elastic bounces of a sphere between two parallel walls,\"\n",
    "    Gauri Shanker, J. M. Tavares, Am. J. Phys. **75**, 690 (2007)"
   ]
  },
  {
   "cell_type": "markdown",
   "metadata": {},
   "source": [
    "### Credits:"
   ]
  },
  {
   "cell_type": "markdown",
   "metadata": {},
   "source": [
    "The Disk-Disk Collision notebook was developed by XXX based on a Weizmann Institue of Science worksheet for the ......."
   ]
  },
  {
   "cell_type": "markdown",
   "metadata": {},
   "source": [
    "<!--NAVIGATION-->\n",
    "< [Disk-Wall](../diskwall/diskwall.ipynb) | [Return to Table of Contents](../index.ipynb) >"
   ]
  }
 ],
 "metadata": {
  "anaconda-cloud": {},
  "kernelspec": {
   "display_name": "Python 3",
   "language": "python",
   "name": "python3"
  },
  "language_info": {
   "codemirror_mode": {
    "name": "ipython",
    "version": 3
   },
   "file_extension": ".py",
   "mimetype": "text/x-python",
   "name": "python",
   "nbconvert_exporter": "python",
   "pygments_lexer": "ipython3",
   "version": "3.6.5"
  }
 },
 "nbformat": 4,
 "nbformat_minor": 1
}
