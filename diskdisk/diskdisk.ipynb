{
 "cells": [
  {
   "cell_type": "markdown",
   "metadata": {},
   "source": [
    "Disk Disk Collisions (Instructor Key)\n",
    "===========================\n",
    "\n",
    "Develop a Phython implementation of a two-dimensional disk-disk collision and test your simulation.  \n"
   ]
  },
  {
   "cell_type": "markdown",
   "metadata": {},
   "source": [
    "<!--NAVIGATION-->\n",
    "< [Disk-Wall](../diskwall/diskwall.ipynb) | [Contents](../index.ipynb) >"
   ]
  },
  {
   "cell_type": "markdown",
   "metadata": {
    "collapsed": true
   },
   "source": [
    "Calculate the force vector and the acceleration vector during the collision.\n",
    "------------------------\n",
    "\n",
    "The disks move at constant speed as they bound off of each other and from the side walls. \n",
    "\n",
    "1. Complete the PDF worksheet to analyize this model.\n",
    "2. Implement a computational model to display the motion of the colliding disk.  Start with the template and add the missing code.\n",
    "\n",
    "Change in velocity: ![Alt](./collision.png \"Velocities before and after collision.\")\n",
    "\n",
    "[Hebrew worksheet](./worksheet.pdf)\n",
    "---------------------------------\n"
   ]
  },
  {
   "cell_type": "code",
   "execution_count": null,
   "metadata": {
    "code_folding": []
   },
   "outputs": [
    {
     "data": {
      "application/javascript": [
       "require.undef(\"nbextensions/vpython_libraries/glow.min\");"
      ],
      "text/plain": [
       "<IPython.core.display.Javascript object>"
      ]
     },
     "metadata": {},
     "output_type": "display_data"
    },
    {
     "data": {
      "application/javascript": [
       "require.undef(\"nbextensions/vpython_libraries/glowcomm\");"
      ],
      "text/plain": [
       "<IPython.core.display.Javascript object>"
      ]
     },
     "metadata": {},
     "output_type": "display_data"
    },
    {
     "data": {
      "application/javascript": [
       "require.undef(\"nbextensions/vpython_libraries/jquery-ui.custom.min\");"
      ],
      "text/plain": [
       "<IPython.core.display.Javascript object>"
      ]
     },
     "metadata": {},
     "output_type": "display_data"
    },
    {
     "data": {
      "application/javascript": [
       "require([\"nbextensions/vpython_libraries/glow.min\"], function(){console.log(\"GLOW LOADED\");})"
      ],
      "text/plain": [
       "<IPython.core.display.Javascript object>"
      ]
     },
     "metadata": {},
     "output_type": "display_data"
    },
    {
     "data": {
      "application/javascript": [
       "require([\"nbextensions/vpython_libraries/glowcomm\"], function(){console.log(\"GLOWCOMM LOADED\");})"
      ],
      "text/plain": [
       "<IPython.core.display.Javascript object>"
      ]
     },
     "metadata": {},
     "output_type": "display_data"
    },
    {
     "data": {
      "application/javascript": [
       "require([\"nbextensions/vpython_libraries/jquery-ui.custom.min\"], function(){console.log(\"JQUERY LOADED\");})"
      ],
      "text/plain": [
       "<IPython.core.display.Javascript object>"
      ]
     },
     "metadata": {},
     "output_type": "display_data"
    },
    {
     "data": {
      "text/html": [
       "<div id=\"glowscript\" class=\"glowscript\"></div>"
      ],
      "text/plain": [
       "<IPython.core.display.HTML object>"
      ]
     },
     "metadata": {},
     "output_type": "display_data"
    },
    {
     "data": {
      "application/javascript": [
       "window.__context = { glowscript_container: $(\"#glowscript\").removeAttr(\"id\")}"
      ],
      "text/plain": [
       "<IPython.core.display.Javascript object>"
      ]
     },
     "metadata": {},
     "output_type": "display_data"
    },
    {
     "data": {
      "text/html": [
       "<div id=\"glowscript\" class=\"glowscript\"></div>"
      ],
      "text/plain": [
       "<IPython.core.display.HTML object>"
      ]
     },
     "metadata": {},
     "output_type": "display_data"
    },
    {
     "data": {
      "application/javascript": [
       "window.__context = { glowscript_container: $(\"#glowscript\").removeAttr(\"id\")}"
      ],
      "text/plain": [
       "<IPython.core.display.Javascript object>"
      ]
     },
     "metadata": {},
     "output_type": "display_data"
    },
    {
     "data": {
      "text/html": [
       "<div id=\"glowscript\" class=\"glowscript\"></div>"
      ],
      "text/plain": [
       "<IPython.core.display.HTML object>"
      ]
     },
     "metadata": {},
     "output_type": "display_data"
    },
    {
     "data": {
      "application/javascript": [
       "window.__context = { glowscript_container: $(\"#glowscript\").removeAttr(\"id\")}"
      ],
      "text/plain": [
       "<IPython.core.display.Javascript object>"
      ]
     },
     "metadata": {},
     "output_type": "display_data"
    }
   ],
   "source": [
    "# Worksheet Anwser Key\n",
    "from vpython import *\n",
    "from numpy import *\n",
    "scene=vpython.canvas()\n",
    "scene.userzoom = False\n",
    "scene.background = color.black\n",
    "scene.width = 350\n",
    "scene.height = 350\n",
    "scene.fov = 0.01\n",
    "run = False\n",
    "done = False\n",
    "\n",
    "###############  CONSTANTS  ###################\n",
    "\n",
    "N = 40                                        # number of paticles\n",
    "m = 1.0                                       # mass of paticles\n",
    "L = 4.0                                       # dimensions of the table\n",
    "R = 0.30                                      # particle radius\n",
    "A = 50000                                     # force magnitude of ball-ball interaction\n",
    "v0 = 50                                    # initial velocities\n",
    "dt = 0.0001                                   # time step\n",
    "a = 500\n",
    "\n",
    "###############  USER INMTERFACE  ###################\n",
    "def Runb(r):\n",
    "    global run\n",
    "    run = not run\n",
    "    if run:\n",
    "        r.text = \"Pause\"\n",
    "        if done: \n",
    "            reset()\n",
    "            run = True\n",
    "    else:\n",
    "        r.text = \"Run\"\n",
    "            \n",
    "Runbutton = button(text=\"Run\", pos=scene.title_anchor, bind=Runb)\n",
    "\n",
    "\n",
    "###############  SYSTEM CREATION   ############\n",
    "\n",
    "table = box(size=vector(2 * L, 2 * L, 0), color=color.yellow, opacity=0.2)    # table\n",
    "monitor = box(pos=vector(0, 0, 0), size=vector(L / 5, 2 * L, 0), color=color.white, opacity=0.5)\n",
    "\n",
    "#________________  particles List   ______________#\n",
    "\n",
    "particles = []                                # define \"particles\" as list variable\n",
    "i = 0\n",
    "# creating the list: \"particles\" with n particles distributed randomely in a box (rho_0*L x rho_0*L x rho_0*L)\n",
    "while i < N:\n",
    "    particle = cylinder(pos=vector(random.uniform(-L + 2 * R, -L / 5),\n",
    "                                   random.uniform(-L + 2 * R, L - 2 * R), 0), radius=R, axis=vector(0, 0, R / 5))\n",
    "    particles.append(particle)\n",
    "    i = i + 1\n",
    "\n",
    "#________________  Velocities List   _________#\n",
    "\n",
    "v = []                                        # define \"v\" as list variable\n",
    "i = 0\n",
    "# creating the velocities list with n random initial velocity vectors in the range [-vo,v0]\n",
    "while i < N:\n",
    "    velocity = vector(random.uniform(-v0, v0), random.uniform(-v0, v0), 0)\n",
    "    v.append(velocity)\n",
    "    i = i + 1\n",
    "\n",
    "#_________________  Graphs   _________________#\n",
    "\n",
    "canvas(x=0, y=0, width=250, height=50, xtitle='t', ytitle='N')\n",
    "avg_N_t = gdots(color=color.blue, size=15)\n",
    "N_t = gcurve(color=color.yellow)\n",
    "# canvas(x=700, y=0, width=350, height=150, xtitle='x', ytitle='N', ymax=N / 10)\n",
    "# pos_dist = ghistogram(bins=arange(-L, L, L / 10), color=color.green, accumulate=True, average=True)\n",
    "\n",
    "###############  TIME EVOLUTION  ##############\n",
    "avg_N = 0\n",
    "t = 0\n",
    "while  not done:\n",
    "    vpython.rate(100)\n",
    "    if not run:\n",
    "        continue\n",
    "    positions = []                            # Reset density_x List #\n",
    "    counter = 0                               # Reset density_t variable #\n",
    "    i = 0\n",
    "    while i < N:                              # i indicates one of the particles\n",
    "\n",
    "        #_________ particle - particle Collisions ____#\n",
    "\n",
    "        F_net = vector(0, 0, 0)\n",
    "        j = 0\n",
    "        while j < N:\n",
    "\n",
    "            if i != j:\n",
    "                # Calculate the distance between particle i and particle j\n",
    "                r = particles[i].pos - particles[j].pos\n",
    "                r_hat = r / mag(r)\n",
    "                if mag(r) < 2 * R:\n",
    "                    F = A * r_hat    # Assume constant interaction while colliding\n",
    "                else:\n",
    "                    F = vector(0, 0, 0)\n",
    "                # Sum the forces of all the other particle (j) - for the case of collisions between more than two particles.\n",
    "                F_net = F_net + F\n",
    "            j = j + 1\n",
    "\n",
    "        #_________ particle - Wall Collisions _____#\n",
    "\n",
    "        if abs(particles[i].pos.x) > L - 2 * R:\n",
    "            v[i].x = -v[i].x\n",
    "        if abs(particles[i].pos.y) > L - 2 * R:\n",
    "            v[i].y = -v[i].y\n",
    "\n",
    "        #_________ Dynamics ___________________#\n",
    "\n",
    "        # calculate the velocity of each particle\n",
    "        v[i] = v[i] + (F_net / m) * dt\n",
    "        # calculate the position of each particle\n",
    "        particles[i].pos = particles[i].pos + v[i] * dt\n",
    "\n",
    "        if particles[i].pos.x > -L / 10 and particles[i].pos.x < L / 10:\n",
    "            counter = counter + 1.0  # Density - time monitor\n",
    "\n",
    "        positions.append(particles[i].pos.x)\n",
    "\n",
    "        i = i + 1\n",
    "\n",
    "    #_________ Graphs _____#\n",
    "\n",
    "    if t % (a * dt) > dt:\n",
    "        avg_N = avg_N + counter\n",
    "    else:\n",
    "        avg_N_t.plot(pos=(t, avg_N / a))\n",
    "        avg_N = 0\n",
    "\n",
    "    N_t.plot(pos=(t, counter))\n",
    "\n",
    "    t = t + dt\n"
   ]
  },
  {
   "cell_type": "markdown",
   "metadata": {},
   "source": [
    "References:\n",
    "========================\n",
    "\n",
    "The wall collisions are discussed in mechanics textbooks.\n",
    "\n",
    "-   *Analytical Mechanics 5 ed* by Grant R. Fowles and George L.\n",
    "    Cassiday, Saunders College Publishing (1993)\n",
    "\n",
    "There are many laboratory and computer experiments that build on the\n",
    "basic model.\n",
    "\n",
    "-   \"The elastic bounces of a sphere between two parallel walls,\"\\\n",
    "    Gauri Shanker, J. M. Tavares, Am. J. Phys. **75**, 690 (2007)\n",
    "\n",
    "### Credits:\n",
    "\n",
    "The Disk Wall Collision notebook was developed by XXX based on a Weizmann Institue of Science worksheet for the ......."
   ]
  }
 ],
 "metadata": {
  "anaconda-cloud": {},
  "kernelspec": {
   "display_name": "Python 3",
   "language": "python",
   "name": "python3"
  },
  "language_info": {
   "codemirror_mode": {
    "name": "ipython",
    "version": 3
   },
   "file_extension": ".py",
   "mimetype": "text/x-python",
   "name": "python",
   "nbconvert_exporter": "python",
   "pygments_lexer": "ipython3",
   "version": "3.6.4"
  }
 },
 "nbformat": 4,
 "nbformat_minor": 1
}
