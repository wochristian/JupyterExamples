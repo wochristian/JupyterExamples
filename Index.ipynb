{
 "cells": [
  {
   "cell_type": "markdown",
   "metadata": {},
   "source": [
    "# Building A Molecular Dynamics Model"
   ]
  },
  {
   "attachments": {},
   "cell_type": "markdown",
   "metadata": {},
   "source": [
    "*Wolfgang Christian*\n",
    "\n",
    "This Jupyter notebook was adapted by Wolfgang Christian based on material for a Grade 10 interdisciplinary computer science course developed by Haim Erdi at the Weizmann Institue of Science and the Davidson Institute of Science Education in Israel. Partial funding was obtained through NSF grant DUE-0442581.\n",
    "<img align=\"right\" style=\"padding-right:10px;\" src=\"figures/nsf.jpg\">"
   ]
  },
  {
   "cell_type": "code",
   "execution_count": 3,
   "metadata": {},
   "outputs": [
    {
     "data": {
      "text/html": [
       "\n",
       "        <iframe\n",
       "            width=\"425\"\n",
       "            height=\"425\"\n",
       "            src=\"./simulation/MD.xhtml\"\n",
       "            frameborder=\"0\"\n",
       "            allowfullscreen\n",
       "        ></iframe>\n",
       "        "
      ],
      "text/plain": [
       "<IPython.lib.display.IFrame at 0x11247db38>"
      ]
     },
     "execution_count": 3,
     "metadata": {},
     "output_type": "execute_result"
    }
   ],
   "source": [
    "from IPython.display import IFrame\n",
    "IFrame('./simulation/MD.xhtml', 425, 425)"
   ]
  },
  {
   "cell_type": "markdown",
   "metadata": {},
   "source": [
    "<b> test</b>"
   ]
  },
  {
   "cell_type": "markdown",
   "metadata": {},
   "source": [
    "## Table of Contents\n",
    "\n",
    "### 1. Pre-Test\n",
    "- [Ball Inside Tube](pretest/pretestQ1.ipynb)\n",
    "- [Newton's Laws](pretest/pretestQ2.ipynb)\n",
    "- [Collisions](pretest/pretestQ2.ipynb)\n",
    "\n",
    "### 2. Build The Model\n",
    "- [Disk-Wall Collisions (Answer Key)](diskwall/diskwall.ipynb)\n",
    "- [Disk-Disk Collisions (Answer Key)](diskdisk/diskdisk.ipynb)\n",
    "\n",
    "### 3 . Predict and Investigate\n",
    "- [Predict](inquiry/predict.ipynb)\n",
    "- [Investigate](inquiry/investigate.ipynb)\n",
    "\n",
    "### Programming Sandbox\n",
    "- [Scatter Plot](testing/ScatterPlot.ipynb)\n",
    "- [Animated Scatter Plot](testing/AnimatedScatter.ipynb)"
   ]
  },
  {
   "cell_type": "code",
   "execution_count": null,
   "metadata": {},
   "outputs": [],
   "source": []
  }
 ],
 "metadata": {
  "anaconda-cloud": {},
  "kernelspec": {
   "display_name": "Python 3",
   "language": "python",
   "name": "python3"
  },
  "language_info": {
   "codemirror_mode": {
    "name": "ipython",
    "version": 3
   },
   "file_extension": ".py",
   "mimetype": "text/x-python",
   "name": "python",
   "nbconvert_exporter": "python",
   "pygments_lexer": "ipython3",
   "version": "3.6.4"
  }
 },
 "nbformat": 4,
 "nbformat_minor": 1
}
