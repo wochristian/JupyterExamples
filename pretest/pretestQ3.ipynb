{
 "cells": [
  {
   "cell_type": "markdown",
   "metadata": {},
   "source": [
    "<!--NAVIGATION-->\n",
    "< [Question 2](pretestQ2.ipynb) | [Return to Table of Contents](../index.ipynb) >"
   ]
  },
  {
   "cell_type": "markdown",
   "metadata": {},
   "source": [
    "# Notebook Contents\n",
    "* [Notebook Contents](#Notebook-Contents)\n",
    "* [Programming Pre-Test (STUDENT NOTEBOOK - CONTINUED)](#Programming-Pre-Test-%28STUDENT-NOTEBOOK---CONTINUED%29)\n",
    "\t* [Question 3: Two-Dimensional Collisions (34 pts)](#Question-3:-Two-Dimensional-Collisions-%2834-pts%29)\n",
    "\t\t* [Downoad Worksheet: [English](./ProgrammingTest_en.pdf) or [Hebrew](./ProgrammingTest_he.pdf)](#Downoad-Worksheet:-[English]%28./ProgrammingTest_en.pdf%29-or-[Hebrew]%28./ProgrammingTest_he.pdf%29)\n",
    "\t\t* [Download Python Code: [ball-in-tube.py](./ball-collision.py)](#Download-Python-Code:-[ball-in-tube.py]%28./ball-collision.py%29)\n",
    "\t\t* [Question 3.A - Predict the output](#Question-3.A---Predict-the-output)\n",
    "\t\t\t* [To answer Part A within this Jupyter notebook, double-click within this cell to change to edit mode.](#To-answer-Part-A-within-this-Jupyter-notebook,-double-click-within-this-cell-to-change-to-edit-mode.)\n",
    "\t\t* [Question 3.B - Describe the output](#Question-3.B---Describe-the-output)\n",
    "\t\t\t* [To answer Part B within this Jupyter notebook, double-click within this cell to change to edit mode.](#To-answer-Part-B-within-this-Jupyter-notebook,-double-click-within-this-cell-to-change-to-edit-mode.)\n",
    "\t\t* [Question 3.C - Diagnose the error](#Question-3.C---Diagnose-the-error)\n",
    "\t\t\t* [To answer Part C within this Jupyter notebook, double-click within this cell to change to edit mode.](#To-answer-Part-C-within-this-Jupyter-notebook,-double-click-within-this-cell-to-change-to-edit-mode.)\n",
    "\t\t* [Question 3.D - Analyze the forces](#Question-3.D---Analyze-the-forces)\n",
    "\t\t\t* [To answer Part D within this Jupyter notebook, double-click within this cell to change to edit mode.](#To-answer-Part-D-within-this-Jupyter-notebook,-double-click-within-this-cell-to-change-to-edit-mode.)\n",
    "\t\t* [Question 3.E - Hooke's Law collision](#Question-3.E---Hooke's-Law-collision)\n",
    "\t\t\t* [To answer Part E within this Jupyter notebook, double-click within this cell to change to edit mode.](#To-answer-Part-E-within-this-Jupyter-notebook,-double-click-within-this-cell-to-change-to-edit-mode.)\n"
   ]
  },
  {
   "cell_type": "markdown",
   "metadata": {},
   "source": [
    "# Programming Pre-Test (STUDENT NOTEBOOK - CONTINUED)"
   ]
  },
  {
   "cell_type": "markdown",
   "metadata": {
    "collapsed": true
   },
   "source": [
    "## Question 3: Two-Dimensional Collisions (34 pts)"
   ]
  },
  {
   "cell_type": "markdown",
   "metadata": {},
   "source": [
    "Dan decided to build a simulation for the collision of two identical (in radius and mass) billiard balls.  He assumes that the balls move at fixed velocity on the table (between collisions), and that during the collision a fixed force acts between them.  In the right part of Figure 7 (\"Observation\"), Dan sketched the trajectory of the balls before, during, and after the collision.\n",
    "\n",
    "**Figure 9:** Two-ball collision template for prediction and experiment exercise. ![Alt](./two-ball-collision.png \"Position-time graph.\")"
   ]
  },
  {
   "cell_type": "markdown",
   "metadata": {},
   "source": [
    "### Downoad Worksheet: [English](./ProgrammingTest_en.pdf) or [Hebrew](./ProgrammingTest_he.pdf)    "
   ]
  },
  {
   "cell_type": "markdown",
   "metadata": {},
   "source": [
    "### Download Python Code: [ball-in-tube.py](./ball-collision.py)"
   ]
  },
  {
   "cell_type": "markdown",
   "metadata": {},
   "source": [
    "**Use the separate worksheet and the python code file or the markdown cells within this notebook to answer questions.**"
   ]
  },
  {
   "cell_type": "markdown",
   "metadata": {},
   "source": [
    "### Question 3.A - Predict the output"
   ]
  },
  {
   "cell_type": "markdown",
   "metadata": {},
   "source": [
    "The code that Dan wrote is shown in the code cell below. Read this code and sketch on the left part of Figure 9 (\"Simulation\") the trajectory of the balls that you estimate would be obtained from this code. (4 pts)"
   ]
  },
  {
   "cell_type": "markdown",
   "metadata": {},
   "source": [
    "#### To answer Part A within this Jupyter notebook, double-click within this cell to change to edit mode."
   ]
  },
  {
   "cell_type": "markdown",
   "metadata": {},
   "source": [
    "<span style=\"color:red\">**Answer:**</span>"
   ]
  },
  {
   "cell_type": "code",
   "execution_count": null,
   "metadata": {},
   "outputs": [],
   "source": [
    "from vpython import *\n",
    "scene=vpython.canvas()\n",
    "scene.userzoom = False\n",
    "m1 = 1.0\n",
    "m2 = 1.0\n",
    "R = 0.5\n",
    "L = 10.0\n",
    "A = 40\n",
    "t = 0\n",
    "dt = 0.01\n",
    "table = box(pos = vector(0,0,0), size = vector(L,L,0))\n",
    "ball1 = sphere(pos=vector(-2.0,-2,0), radius = R, color = color.red)\n",
    "ball2 = sphere(pos=vector( 2.0,-2,0), radius = R, color = color.blue)\n",
    "v1 = vector(3.0,3.0,0)\n",
    "v2 = vector(-3.0,3.0,0)\n",
    "while (t<2):\n",
    "    rate(20)\n",
    "    r=ball1.pos - ball2.pos\n",
    "    r_hat = r/mag(r)\n",
    "    if mag(r) < 2*R: F_net = A*r_hat\n",
    "    else: F_net=vector(0,0,0) \n",
    "    a1 = F_net/m1\n",
    "    v1 = v1 + a1*dt\n",
    "    ball1.pos = ball1.pos + v1*dt\n",
    "    a2 = F_net/m2\n",
    "    v2 = v2 + a2*dt\n",
    "    ball2.pos = ball2.pos + v2*dt\n",
    "    t = t + dt"
   ]
  },
  {
   "cell_type": "markdown",
   "metadata": {},
   "source": [
    "### Question 3.B - Describe the output"
   ]
  },
  {
   "cell_type": "markdown",
   "metadata": {},
   "source": [
    "Run Dan's code and describe the difference between the trajectory of the balls obtained in \"Observation\" and the estimated trajectory that you sketched in \"Simulation\". (3 pts)"
   ]
  },
  {
   "cell_type": "markdown",
   "metadata": {},
   "source": [
    "#### To answer Part B within this Jupyter notebook, double-click within this cell to change to edit mode."
   ]
  },
  {
   "cell_type": "markdown",
   "metadata": {},
   "source": [
    "<span style=\"color:red\">**Answer:**</span>"
   ]
  },
  {
   "cell_type": "markdown",
   "metadata": {},
   "source": [
    "### Question 3.C - Diagnose the error"
   ]
  },
  {
   "cell_type": "markdown",
   "metadata": {},
   "source": [
    "Diagnose the error in Dan's code.\n",
    "\n",
    "- Copy the line(s) of code in which you think the error occurred. (2 pts)\n",
    "- In which physical principles/concepts did Dan make a mistake?  How was his understanding different from the accepted physical understanding? (5 pts)\n",
    "- Modify Dan's code in order so that the simulation fits observation.  Test your answer, but write only the corrected code in your answer sheet. (5 pts)"
   ]
  },
  {
   "cell_type": "markdown",
   "metadata": {},
   "source": [
    "#### To answer Part C within this Jupyter notebook, double-click within this cell to change to edit mode."
   ]
  },
  {
   "cell_type": "markdown",
   "metadata": {},
   "source": [
    "<span style=\"color:red\">**Answer:**</span>"
   ]
  },
  {
   "cell_type": "markdown",
   "metadata": {},
   "source": [
    "### Question 3.D - Analyze the forces"
   ]
  },
  {
   "cell_type": "markdown",
   "metadata": {},
   "source": [
    "Dan tests the simulation with a vector representation of force and velocity before and after the collision.  Figure 10 shows the position and velocity of ball A before and after the collision with ball B. (Ball B is not shown in the figure.)\n",
    "\n",
    "- Find by sketching the direction of the force vector acting on the ball.  Show the stages of the solution and not only the final answer. (5 pts)\n",
    "- Calculate the force vector acting on ball A, if it is given that the collision lasts a tenth of a second and the mass of the ball is 150 grams.  Use the data that appear on the sketch. (5 pts)\n",
    "- What is the direction of the force acting on ball B?  What physical principle can you use to figure out its direction?  Calculate the unit vector that corresponds to this force. (5 pts)\n",
    "\n",
    "**Figure 10:** Ball A velocity before and after collision. ![Alt](./velocity-change.png \"Velocity vectors before and after collision.\")"
   ]
  },
  {
   "cell_type": "markdown",
   "metadata": {},
   "source": [
    "#### To answer Part D within this Jupyter notebook, double-click within this cell to change to edit mode."
   ]
  },
  {
   "cell_type": "markdown",
   "metadata": {},
   "source": [
    "<span style=\"color:red\">**Answer:**</span>"
   ]
  },
  {
   "cell_type": "markdown",
   "metadata": {},
   "source": [
    "### Question 3.E - Hooke's Law collision"
   ]
  },
  {
   "cell_type": "markdown",
   "metadata": {},
   "source": [
    "**Optional section:** Dan decided to test the influence of the type of interaction on the velocity vector after the collision.  He modified the simulation based on elastic Hooke's Law interactions when the particles overlap.  Do you think the velocity vector after an elastic interaction will be the same or different from what was obtained with a constant force interaction during collision?  If there are differences, describe them.  If not, explain why. (2 pts)\n",
    "\n",
    "**Challenge:** Modify the simulation to implement an elastic interaction."
   ]
  },
  {
   "cell_type": "markdown",
   "metadata": {},
   "source": [
    "#### To answer Part E within this Jupyter notebook, double-click within this cell to change to edit mode."
   ]
  },
  {
   "cell_type": "markdown",
   "metadata": {},
   "source": [
    "<span style=\"color:red\">**Answer:**</span>"
   ]
  },
  {
   "cell_type": "markdown",
   "metadata": {},
   "source": [
    "<!--NAVIGATION-->\n",
    "< [Question 2](pretestQ2.ipynb) | [Return to Table of Contents](../index.ipynb) >"
   ]
  }
 ],
 "metadata": {
  "anaconda-cloud": {},
  "kernelspec": {
   "display_name": "Python 3",
   "language": "python",
   "name": "python3"
  },
  "language_info": {
   "codemirror_mode": {
    "name": "ipython",
    "version": 3
   },
   "file_extension": ".py",
   "mimetype": "text/x-python",
   "name": "python",
   "nbconvert_exporter": "python",
   "pygments_lexer": "ipython3",
   "version": "3.6.5"
  }
 },
 "nbformat": 4,
 "nbformat_minor": 1
}
