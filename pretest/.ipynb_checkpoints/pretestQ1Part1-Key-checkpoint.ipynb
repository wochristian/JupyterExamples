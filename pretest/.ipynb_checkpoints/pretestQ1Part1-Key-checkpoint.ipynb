{
 "cells": [
  {
   "cell_type": "markdown",
   "metadata": {},
   "source": [
    "# Table of Contents\n",
    "* [Question 1 (INSTRUCTOR KEY)](#Question-1-%28INSTRUCTOR-KEY%29)\n",
    "\t* [New to VPhython?](#New-to-VPhython?)\n",
    "\t\t* [Part 1.A - Divide the code](#Part-1.A---Divide-the-code)\n",
    "\t\t* [Part 1.B](#Part-1.B)\n"
   ]
  },
  {
   "cell_type": "markdown",
   "metadata": {},
   "source": [
    "# Question 1 (INSTRUCTOR KEY)\n"
   ]
  },
  {
   "cell_type": "markdown",
   "metadata": {},
   "source": [
    "<!--NAVIGATION-->\n",
    "< [Contents](../index.ipynb) >"
   ]
  },
  {
   "cell_type": "markdown",
   "metadata": {
    "collapsed": true
   },
   "source": [
    "## New to VPhython?"
   ]
  },
  {
   "cell_type": "markdown",
   "metadata": {},
   "source": [
    "The following key dissects the Ball in Tube program shown in the Pre-Test.  Students my dissect the example differently but it is important that they meaning to each line of the example program.\n",
    "\n",
    "**Instructions:** Select the code cell below and press Run.   A running cell will show an asterisk in the left hand margin while it is running.  Wait for the code cell to finish its execution.  The left had margin will show an integer designating the cell's order of execution.  Observe each cell's output, if any, and continue to press Run to execute each cell in the Jupyter Notebook.  \n",
    "\n",
    "**Note:** Double click on a text cell to examine how the Markdown language is used to format text in Jupyter Notebooks."
   ]
  },
  {
   "cell_type": "markdown",
   "metadata": {},
   "source": [
    "### Part 1.A - Divide the code"
   ]
  },
  {
   "cell_type": "markdown",
   "metadata": {},
   "source": [
    "The first python statement imports the 3d graphics code library named **vpython** so that we can create a 3D visual representation of the model.\n",
    "\n",
    "The second python statement creates a VPython scene that will contain objects such as balls and cylinders. \n",
    "\n",
    "The third python statement sets the user zoom property of the scene.  VPython scenes are 3D and disabling the zoom fixes the observer's reference point so that rotation via the mouse and other actions are disabled."
   ]
  },
  {
   "cell_type": "code",
   "execution_count": 1,
   "metadata": {},
   "outputs": [
    {
     "data": {
      "application/javascript": [
       "require.undef(\"nbextensions/vpython_libraries/glow.min\");"
      ],
      "text/plain": [
       "<IPython.core.display.Javascript object>"
      ]
     },
     "metadata": {},
     "output_type": "display_data"
    },
    {
     "data": {
      "application/javascript": [
       "require.undef(\"nbextensions/vpython_libraries/glowcomm\");"
      ],
      "text/plain": [
       "<IPython.core.display.Javascript object>"
      ]
     },
     "metadata": {},
     "output_type": "display_data"
    },
    {
     "data": {
      "application/javascript": [
       "require.undef(\"nbextensions/vpython_libraries/jquery-ui.custom.min\");"
      ],
      "text/plain": [
       "<IPython.core.display.Javascript object>"
      ]
     },
     "metadata": {},
     "output_type": "display_data"
    },
    {
     "data": {
      "application/javascript": [
       "require([\"nbextensions/vpython_libraries/glow.min\"], function(){console.log(\"GLOW LOADED\");})"
      ],
      "text/plain": [
       "<IPython.core.display.Javascript object>"
      ]
     },
     "metadata": {},
     "output_type": "display_data"
    },
    {
     "data": {
      "application/javascript": [
       "require([\"nbextensions/vpython_libraries/glowcomm\"], function(){console.log(\"GLOWCOMM LOADED\");})"
      ],
      "text/plain": [
       "<IPython.core.display.Javascript object>"
      ]
     },
     "metadata": {},
     "output_type": "display_data"
    },
    {
     "data": {
      "application/javascript": [
       "require([\"nbextensions/vpython_libraries/jquery-ui.custom.min\"], function(){console.log(\"JQUERY LOADED\");})"
      ],
      "text/plain": [
       "<IPython.core.display.Javascript object>"
      ]
     },
     "metadata": {},
     "output_type": "display_data"
    },
    {
     "data": {
      "text/html": [
       "<div id=\"glowscript\" class=\"glowscript\"></div>"
      ],
      "text/plain": [
       "<IPython.core.display.HTML object>"
      ]
     },
     "metadata": {},
     "output_type": "display_data"
    },
    {
     "data": {
      "application/javascript": [
       "window.__context = { glowscript_container: $(\"#glowscript\").removeAttr(\"id\")}"
      ],
      "text/plain": [
       "<IPython.core.display.Javascript object>"
      ]
     },
     "metadata": {},
     "output_type": "display_data"
    },
    {
     "data": {
      "text/html": [
       "<div id=\"glowscript\" class=\"glowscript\"></div>"
      ],
      "text/plain": [
       "<IPython.core.display.HTML object>"
      ]
     },
     "metadata": {},
     "output_type": "display_data"
    },
    {
     "data": {
      "application/javascript": [
       "window.__context = { glowscript_container: $(\"#glowscript\").removeAttr(\"id\")}"
      ],
      "text/plain": [
       "<IPython.core.display.Javascript object>"
      ]
     },
     "metadata": {},
     "output_type": "display_data"
    }
   ],
   "source": [
    "from vpython import *\n",
    "scene=vpython.canvas()\n",
    "scene.userzoom = False"
   ]
  },
  {
   "cell_type": "markdown",
   "metadata": {},
   "source": [
    "The following three python statements set mass, radius, length and force constants.  Note how inline comments are used to document the meaning of each variable."
   ]
  },
  {
   "cell_type": "code",
   "execution_count": 2,
   "metadata": {},
   "outputs": [],
   "source": [
    "m = 2.0     # mass of ball\n",
    "R = 0.5     # radius of ball\n",
    "L = 10.0    # length of tube\n",
    "f = 100.0   # magnitude of force at end of tube"
   ]
  },
  {
   "cell_type": "markdown",
   "metadata": {},
   "source": [
    "The following statement defines and sets the initial velocity of the ball.  Note that velocity is a 3D vector because VPython is a 3D programming environment.  This velocity vector does not remain constant as the system evolves. "
   ]
  },
  {
   "cell_type": "code",
   "execution_count": 3,
   "metadata": {},
   "outputs": [],
   "source": [
    "v = vector(5.0,0,0)  # ball is moving to right at t=0"
   ]
  },
  {
   "cell_type": "markdown",
   "metadata": {},
   "source": [
    "The following two statements define and initialize the time and the time increment variables."
   ]
  },
  {
   "cell_type": "code",
   "execution_count": 4,
   "metadata": {},
   "outputs": [],
   "source": [
    "t = 0\n",
    "dt = 0.01"
   ]
  },
  {
   "cell_type": "markdown",
   "metadata": {},
   "source": [
    "The following two statements define and initialize the tube and the ball in the 3D view.  Objects are automatically added to the last 3D canvas that was created.  Users can specify the name of the canvas if more than one 3D canvas exists in a program using an optional input parameter.\n",
    "\n",
    "```python\n",
    "ball = sphere(canvas=scene, pos=vector(-3.0,0,0), radius = R, color = color.red)\n",
    "```"
   ]
  },
  {
   "cell_type": "markdown",
   "metadata": {},
   "source": [
    "**Note:** Although the scene was created in the first code cell, it remain hidden until it contains objects.  You should see the tube and ball when the following cell is Run."
   ]
  },
  {
   "cell_type": "code",
   "execution_count": 5,
   "metadata": {},
   "outputs": [],
   "source": [
    "tube = cylinder(pos = vector(-L/2,0,0), axis = vector(L,0,0), radius = R, opacity=0.5)\n",
    "ball = sphere(pos=vector(-3.0,0,0), radius = R, color = color.red)"
   ]
  },
  {
   "cell_type": "code",
   "execution_count": 6,
   "metadata": {},
   "outputs": [
    {
     "name": "stdout",
     "output_type": "stream",
     "text": [
      "Animation done\n"
     ]
    }
   ],
   "source": [
    "while (t<10):\n",
    "    rate(100)\n",
    "    if ball.pos.x > L/2-R: F1 = f*vector(-1,0,0)\n",
    "    else: F1=vector(0,0,0)\n",
    "    if ball.pos.x < -L/2+R: F2 = f*vector(1,0,0)\n",
    "    else: F2=vector(0,0,0) \n",
    "    F_net = F1 + F2\n",
    "    a = F_net/m\n",
    "    v = v + a*dt\n",
    "    ball.pos = ball.pos + v*dt\n",
    "    t = t + dt\n",
    "print(\"Animation done\")"
   ]
  },
  {
   "cell_type": "markdown",
   "metadata": {},
   "source": [
    "Divide the code into a number of groups according to their function in the computational model (a group doesn't have to include consecutive lines), and briefly describe the function of each line group.  Specify the meaning of the lines for each group. Use the cell below or the separate worksheet.(8 pts). \n",
    "\n",
    "Give the function of each line group and the meaning of the lines. For example, lines 2-5 \n",
    "\n",
    "\n",
    "|Lines   | Function of the line group | Meaning of the lines                                                           |\n",
    "| :-----: | :-------------------: | ----------------------------------------------------------------------------: |\n",
    "| 4-7  | Constants of the system  | m = mass of the ball, f = force,\\n R = radius of the ball, L = length of the tube |\n",
    "|      |                | |\n",
    "\n",
    "**Use the separate worksheet or the markdown cells within this notebook to answer questions.**"
   ]
  },
  {
   "cell_type": "markdown",
   "metadata": {},
   "source": [
    "### Part 1.B"
   ]
  },
  {
   "cell_type": "markdown",
   "metadata": {},
   "source": [
    "A second classmate, Bob, proposes replacing part of the code that Alice wrote with the following lines:\n",
    "\n",
    "```python\n",
    "if disk.pos.x < -L/2+R: x.v = - x.v\n",
    "if disk.pos.x >  L/2-R: x.v = - x.v\n",
    "```"
   ]
  },
  {
   "cell_type": "markdown",
   "metadata": {},
   "source": [
    "Which lines of the original code do you think can be taken out if you use Bob’s proposal? What\n",
    "is the function of those lines in Alice’s code? Why can they be replaced with the lines that Bob\n",
    "proposed? (5 pts)"
   ]
  }
 ],
 "metadata": {
  "anaconda-cloud": {},
  "kernelspec": {
   "display_name": "Python 3",
   "language": "python",
   "name": "python3"
  },
  "language_info": {
   "codemirror_mode": {
    "name": "ipython",
    "version": 3
   },
   "file_extension": ".py",
   "mimetype": "text/x-python",
   "name": "python",
   "nbconvert_exporter": "python",
   "pygments_lexer": "ipython3",
   "version": "3.6.4"
  }
 },
 "nbformat": 4,
 "nbformat_minor": 1
}
