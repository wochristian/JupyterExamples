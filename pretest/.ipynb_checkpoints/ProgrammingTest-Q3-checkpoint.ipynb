{
 "cells": [
  {
   "cell_type": "markdown",
   "metadata": {},
   "source": [
    "Programming Pre-Test (Instructor Key)\n",
    "===========================\n",
    "\n",
    "Test your knowlege of Python **before** attempting the multi-particle programming simulation.\n",
    "\n",
    "#### Credits:\n",
    "\n",
    "This Jupyter notebook was adapted by Wolfgang Christian based on material developed Haim Erdi at the Weizmann Institue of Science and the Davidson Institute of Science Education in Israel for a Grade 10 interdisciplinary computer science course.\n"
   ]
  },
  {
   "cell_type": "markdown",
   "metadata": {
    "collapsed": true
   },
   "source": [
    "## Question 3 (34 pts)\n",
    "Dan decided to build a simulation for the collision of two identical (in radius and mass) billiard balls.  He assumes that the balls move at fixed velocity on the table (between collisions), and that during the collision a fixed force acts between them.  In the right part of Figure 7 (\"Observation\"), Dan sketched the trajectory of the balls before, during, and after the collision.\n",
    "\n",
    "**Figure 9:** Two-ball collision template for prediction and experiment exercise. ![Alt](./two-ball-collision.png \"Position-time graph.\")\n",
    "    \n",
    "###### Downoad Worksheet: [English](./ProgrammingTest_en.pdf) or [Hebrew](./ProgrammingTest_he.pdf)    \n",
    "###### Download Python Code: [ball-in-tube.py](./ball-collision.py)\n",
    "\n",
    "**Use the separate worksheet and the python code file or the markdown cells within this notebook to answer questions.**\n",
    "\n",
    "### Part 3.A\n",
    "The code that Dan wrote is shown in the code cell below. Read this code and sketch on the left part of Figure 9 (\"Simulation\") the trajectory of the balls that you estimate would be obtained from this code. (4 pts)"
   ]
  },
  {
   "cell_type": "markdown",
   "metadata": {},
   "source": [
    "###### To answer Part 3.A within this Jupyter notebook, double-click within this cell to change to edit mode.\n",
    "<span style=\"color:red\">**Answer:**</span>"
   ]
  },
  {
   "cell_type": "code",
   "execution_count": 4,
   "metadata": {},
   "outputs": [
    {
     "data": {
      "text/html": [
       "<div id=\"glowscript\" class=\"glowscript\"></div>"
      ],
      "text/plain": [
       "<IPython.core.display.HTML object>"
      ]
     },
     "metadata": {},
     "output_type": "display_data"
    },
    {
     "data": {
      "application/javascript": [
       "window.__context = { glowscript_container: $(\"#glowscript\").removeAttr(\"id\")}"
      ],
      "text/plain": [
       "<IPython.core.display.Javascript object>"
      ]
     },
     "metadata": {},
     "output_type": "display_data"
    }
   ],
   "source": [
    "from vpython import *\n",
    "scene=vpython.canvas()\n",
    "scene.userzoom = False\n",
    "m1 = 1.0\n",
    "m2 = 1.0\n",
    "R = 0.5\n",
    "L = 10.0\n",
    "A = 40\n",
    "t = 0\n",
    "dt = 0.001\n",
    "table = box(pos = vector(0,0,0), size = vector(L,L,0))\n",
    "ball1 = sphere(pos=vector(-2.0,-2,0), radius = R, color = color.red)\n",
    "ball2 = sphere(pos=vector( 2.0,-2,0), radius = R, color = color.blue)\n",
    "v1 = vector(3.0,3.0,0)\n",
    "v2 = vector(-3.0,3.0,0)\n",
    "while (t<4):\n",
    "    rate(100)\n",
    "    r=ball1.pos - ball2.pos\n",
    "    r_hat = r/mag(r)\n",
    "    if mag(r) < 2*R: F_net = A*r_hat\n",
    "    else: F_net=vector(0,0,0) \n",
    "    a1 = F_net/m1\n",
    "    v1 = v1 + a1*dt\n",
    "    ball1.pos = ball1.pos + v1*dt\n",
    "    a2 = F_net/m2\n",
    "    v2 = v2 + a2*dt\n",
    "    ball2.pos = ball2.pos + v2*dt\n",
    "    t = t + dt"
   ]
  },
  {
   "cell_type": "markdown",
   "metadata": {},
   "source": [
    "### Part 3.B\n",
    "Run Dan's code and describe the difference between the trajectory of the balls obtained in \"Observation\" and the estimated trajectory that you sketched in \"Simulation\". (3 pts)\n"
   ]
  },
  {
   "cell_type": "markdown",
   "metadata": {},
   "source": [
    "###### To answer Part 3.B within this Jupyter notebook, double-click within this cell to change to edit mode.\n",
    "<span style=\"color:red\">**Answer:**</span>"
   ]
  },
  {
   "cell_type": "markdown",
   "metadata": {},
   "source": [
    "### Part 3.C\n",
    "Diagnose the error in Dan's code.\n",
    "\n",
    "- Copy the line(s) of code in which you think the error occurred. (2 pts)\n",
    "- In which physical principles/concepts did Dan make a mistake?  How was his understanding different from the accepted physical understanding? (5 pts)\n",
    "- Modify Dan's code in order so that the simulation fits observation.  Test your answer, but write only the corrected code in your answer sheet. (5 pts)"
   ]
  },
  {
   "cell_type": "markdown",
   "metadata": {},
   "source": [
    "###### To answer Part 3.C within this Jupyter notebook, double-click within this cell to change to edit mode.\n",
    "<span style=\"color:red\">**Answer:**</span>"
   ]
  },
  {
   "attachments": {},
   "cell_type": "markdown",
   "metadata": {},
   "source": [
    "### Part 3.D\n",
    "Dan tests the simulation with a vector representation of force and velocity before and after the collision.  Figure 10 shows the position and velocity of ball A before and after the collision with ball B. (Ball B is not shown in the figure.)\n",
    "\n",
    "- Find by sketching the direction of the force vector acting on the ball.  Show the stages of the solution and not only the final answer. (5 pts)\n",
    "- Calculate the force vector acting on ball A, if it is given that the collision lasts a tenth of a second and the mass of the ball is 150 grams.  Use the data that appear on the sketch. (5 pts)\n",
    "- What is the direction of the force acting on ball B?  What physical principle can you use to figure out its direction?  Calculate the unit vector that corresponds to this force. (5 pts)\n",
    "\n",
    "**Figure 10:** Ball A velocity before and after collision. ![Alt](./velocity-change.png \"Velocity vectors before and after collision.\")"
   ]
  },
  {
   "cell_type": "markdown",
   "metadata": {},
   "source": [
    "###### To answer Part 3.D within this Jupyter notebook, double-click within this cell to change to edit mode.\n",
    "<span style=\"color:red\">**Answer:**</span>"
   ]
  },
  {
   "attachments": {},
   "cell_type": "markdown",
   "metadata": {},
   "source": [
    "### Part 3.E\n",
    "**Optional section:** Dan decided to test the influence of the type of interaction on the velocity vector after the collision.  He modified the simulation based on elastic Hooke's Law interactions when the particles overlap.  Do you think the velocity vector after an elastic interaction will be the same or different from what was obtained with a constant force interaction during collision?  If there are differences, describe them.  If not, explain why. (2 pts)\n",
    "\n",
    "**Challenge:** Modify the simulation to implement an elastic interaction."
   ]
  },
  {
   "cell_type": "markdown",
   "metadata": {},
   "source": [
    "###### To answer Part 3.E within this Jupyter notebook, double-click within this cell to change to edit mode.\n",
    "<span style=\"color:red\">**Answer:**</span>"
   ]
  }
 ],
 "metadata": {
  "anaconda-cloud": {},
  "kernelspec": {
   "display_name": "Python 3",
   "language": "python",
   "name": "python3"
  },
  "language_info": {
   "codemirror_mode": {
    "name": "ipython",
    "version": 3
   },
   "file_extension": ".py",
   "mimetype": "text/x-python",
   "name": "python",
   "nbconvert_exporter": "python",
   "pygments_lexer": "ipython3",
   "version": "3.6.4"
  }
 },
 "nbformat": 4,
 "nbformat_minor": 1
}
