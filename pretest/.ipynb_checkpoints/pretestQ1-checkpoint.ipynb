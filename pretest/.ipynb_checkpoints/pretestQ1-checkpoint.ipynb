{
 "cells": [
  {
   "cell_type": "markdown",
   "metadata": {},
   "source": [
    "Programming Pre-Test (Instructor Key)\n",
    "===========================\n",
    "\n",
    "Test your knowlege of Python **before** attempting the multi-particle programming simulation.\n",
    "\n",
    "#### Credits:\n",
    "\n",
    "This Jupyter notebook was adapted by Wolfgang Christian based on material developed Haim Erdi at the Weizmann Institue of Science and the Davidson Institute of Science Education in Israel for a Grade 10 interdisciplinary computer science course.\n"
   ]
  },
  {
   "cell_type": "markdown",
   "metadata": {},
   "source": [
    "<!--NAVIGATION-->\n",
    "< [Contents](../index.ipynb) | [Question 2](pretestQ2.ipynb) >"
   ]
  },
  {
   "cell_type": "markdown",
   "metadata": {
    "collapsed": true
   },
   "source": [
    "## Question 1 (33 pts)\n",
    "### Part 1.A\n",
    "\n",
    "A classmate, Alice, has built a computational model for a rubber ball moving inside a smooth hollow tube of length L and colliding elastically with the ends of the tube. Her code is shown in the cell below and you can run it to observe how it behaves.\n",
    "\n",
    "<span style=\"color:red\">**Notes:**</span>\n",
    "- Install VPython after you install Anaconda using this terminal command: **conda install -c vpython vpython** \n",
    "- Press **&lt;esc&gt; L** to show line numbers in a Jupyter code cell.\n",
    "- You may run the code below in a standard VPython code environment.\n",
    "- To run the code below, select the cell and press the Run button above.  If the notebook has has crashed, select \"Restart and run all cells\" from the Kernal menu item.\n",
    "- You may modify and rerun the code to answer the questions.\n",
    "    \n",
    "###### Test Worksheet: [English](./ProgrammingTest_en.pdf) or [Hebrew](./ProgrammingTest_he.pdf)\n",
    "\n",
    "\n",
    "###### Python Code: [ball-in-tube.py](./ball-in-tube.py)\n"
   ]
  },
  {
   "cell_type": "code",
   "execution_count": 1,
   "metadata": {},
   "outputs": [
    {
     "data": {
      "application/javascript": [
       "require.undef(\"nbextensions/vpython_libraries/glow.min\");"
      ],
      "text/plain": [
       "<IPython.core.display.Javascript object>"
      ]
     },
     "metadata": {},
     "output_type": "display_data"
    },
    {
     "data": {
      "application/javascript": [
       "require.undef(\"nbextensions/vpython_libraries/glowcomm\");"
      ],
      "text/plain": [
       "<IPython.core.display.Javascript object>"
      ]
     },
     "metadata": {},
     "output_type": "display_data"
    },
    {
     "data": {
      "application/javascript": [
       "require.undef(\"nbextensions/vpython_libraries/jquery-ui.custom.min\");"
      ],
      "text/plain": [
       "<IPython.core.display.Javascript object>"
      ]
     },
     "metadata": {},
     "output_type": "display_data"
    },
    {
     "data": {
      "application/javascript": [
       "require([\"nbextensions/vpython_libraries/glow.min\"], function(){console.log(\"GLOW LOADED\");})"
      ],
      "text/plain": [
       "<IPython.core.display.Javascript object>"
      ]
     },
     "metadata": {},
     "output_type": "display_data"
    },
    {
     "data": {
      "application/javascript": [
       "require([\"nbextensions/vpython_libraries/glowcomm\"], function(){console.log(\"GLOWCOMM LOADED\");})"
      ],
      "text/plain": [
       "<IPython.core.display.Javascript object>"
      ]
     },
     "metadata": {},
     "output_type": "display_data"
    },
    {
     "data": {
      "application/javascript": [
       "require([\"nbextensions/vpython_libraries/jquery-ui.custom.min\"], function(){console.log(\"JQUERY LOADED\");})"
      ],
      "text/plain": [
       "<IPython.core.display.Javascript object>"
      ]
     },
     "metadata": {},
     "output_type": "display_data"
    },
    {
     "data": {
      "text/html": [
       "<div id=\"glowscript\" class=\"glowscript\"></div>"
      ],
      "text/plain": [
       "<IPython.core.display.HTML object>"
      ]
     },
     "metadata": {},
     "output_type": "display_data"
    },
    {
     "data": {
      "application/javascript": [
       "window.__context = { glowscript_container: $(\"#glowscript\").removeAttr(\"id\")}"
      ],
      "text/plain": [
       "<IPython.core.display.Javascript object>"
      ]
     },
     "metadata": {},
     "output_type": "display_data"
    },
    {
     "data": {
      "text/html": [
       "<div id=\"glowscript\" class=\"glowscript\"></div>"
      ],
      "text/plain": [
       "<IPython.core.display.HTML object>"
      ]
     },
     "metadata": {},
     "output_type": "display_data"
    },
    {
     "data": {
      "application/javascript": [
       "window.__context = { glowscript_container: $(\"#glowscript\").removeAttr(\"id\")}"
      ],
      "text/plain": [
       "<IPython.core.display.Javascript object>"
      ]
     },
     "metadata": {},
     "output_type": "display_data"
    }
   ],
   "source": [
    "from vpython import *\n",
    "scene=vpython.canvas()\n",
    "scene.userzoom = False\n",
    "m = 2.0\n",
    "f = 100.0\n",
    "R = 0.5\n",
    "L = 10.0\n",
    "t = 0\n",
    "dt = 0.001\n",
    "v = vector(5.0,0,0)\n",
    "tube = cylinder(pos = vector(-L/2,0,0), axis = vector(L,0,0), radius = R, opacity=0.5)\n",
    "ball = sphere(pos=vector(-3.0,0,0), radius = R, color = color.red)\n",
    "while (t<10):\n",
    "    rate(100)\n",
    "    if ball.pos.x > L/2-R: F1 = f*vector(-1,0,0)\n",
    "    else: F1=vector(0,0,0)\n",
    "    if ball.pos.x < -L/2+R: F2 = f*vector(1,0,0)\n",
    "    else: F2=vector(0,0,0) \n",
    "    F_net = F1 + F2\n",
    "    a = F_net/m\n",
    "    v = v + a*dt\n",
    "    ball.pos = ball.pos + v*dt\n",
    "    t = t + dt"
   ]
  },
  {
   "cell_type": "markdown",
   "metadata": {},
   "source": [
    "Divide the code into a number of groups according to their function in the computational model (a group doesn't have to include consecutive lines), and briefly describe the function of each line group.  Specify the meaning of the lines for each group. Use the cell below or the separate worksheet.(8 pts). \n",
    "\n",
    "Give the function of each line group and the meaning of the lines. For example, lines 2-5 \n",
    "\n",
    "\n",
    "|Lines   | Function of the line group | Meaning of the lines                                                           |\n",
    "| :-----: | :-------------------: | ----------------------------------------------------------------------------: |\n",
    "| 4-7  | Constants of the system  | m = mass of the ball, f = force,\\n R = radius of the ball, L = length of the tube |\n",
    "|      |                | |\n",
    "\n",
    "**Use the separate worksheet or the markdown cells within this notebook to answer questions.**"
   ]
  },
  {
   "cell_type": "markdown",
   "metadata": {},
   "source": [
    "###### To answer Part 1.A within this Jupyter notebook, double-click within this cell to change to edit mode.\n",
    "<span style=\"color:red\">**Answer:**</span>"
   ]
  },
  {
   "cell_type": "markdown",
   "metadata": {},
   "source": [
    "### Part 1.B\n",
    "A second classmate, Bob, proposes replacing part of the code that Alice wrote with the following lines:\n",
    "\n",
    "```python\n",
    "if disk.pos.x < -L/2+R: x.v = - x.v\n",
    "if disk.pos.x >  L/2-R: x.v = - x.v\n",
    "```\n",
    "Which lines of the original code do you think can be taken out if you use Bob’s proposal? What\n",
    "is the function of those lines in Alice’s code? Why can they be replaced with the lines that Bob\n",
    "proposed? (5 pts)\n"
   ]
  },
  {
   "cell_type": "markdown",
   "metadata": {},
   "source": [
    "###### To answer Part 1.B within this Jupyter notebook, double-click within this cell to change to edit mode.\n",
    "<span style=\"color:red\">**Answer:**</span>"
   ]
  },
  {
   "cell_type": "markdown",
   "metadata": {},
   "source": [
    "### Part 1.C\n",
    "For each of the two models (Alice’s and Bob’s): On which assumptions is the model based?\n",
    "What does the model predict about the velocity of the ball during and after a collision? (4\n",
    "pts)"
   ]
  },
  {
   "cell_type": "markdown",
   "metadata": {},
   "source": [
    "###### To answer Part 1.C within this Jupyter notebook, double-click within this cell to change to edit mode.\n",
    "<span style=\"color:red\">**Answer:**</span>"
   ]
  },
  {
   "cell_type": "markdown",
   "metadata": {},
   "source": [
    "### Part 1.D\n",
    "Bob and Alice experimentally measured the position of the ball vs. time twice: With a camera taking 30 images per second, and with a camera taking 100 images per second.  The results of the measurement are presented in Figure 1. Which of the measurements fits Alice's model, and which fits Bob's model?  Explain why. (4 pts)\n",
    "\n",
    "**Figure 1:** Position-time x(t) graphs obtained with a camera with different times between pictures. ![Alt](./x_t.png \"Position-time graph.\")"
   ]
  },
  {
   "cell_type": "markdown",
   "metadata": {},
   "source": [
    "###### To answer Part 1.D within this Jupyter notebook, double-click within this cell to change to edit mode.\n",
    "<span style=\"color:red\">**Answer:**</span>"
   ]
  },
  {
   "cell_type": "markdown",
   "metadata": {},
   "source": [
    "### Part 1.E\n",
    "Figure 2 shows a graph of the velocity of the ball vs. time, obtained from running the code **that Alice wrote.**\n",
    "\n",
    "- Describe the motion of the ball that fits the Figure 2. (3 pts)\n",
    "- Sketch an (approximate) acceleration-time graph that corresponds to Figure 2. (3 pts)\n",
    "- How do you think the velocity-time v(t) graph in Figure 3 would change if Alice were to change the value of the mass of the ball to m=4.0?  Add, on Figure 3, the graph that you think would be obtained as a result of the change, and explain your answer. (3 pts)\n",
    "- How would the velocity-time graph v(t) look as obtained by running the code that **Bob proposed?**  Add, on Figure 2, the graph that you think would be obtained, and explain your answer. (3 pts)\n",
    "\n",
    "**Figure 2:** Velocity-time v(t) graph obtained from the computer model. ![Alt](./v_t.png \"Velocity-time graph.\")"
   ]
  },
  {
   "cell_type": "markdown",
   "metadata": {},
   "source": [
    "###### To answer Part 1.E within this Jupyter notebook, double-click within this cell to change to edit mode.\n",
    "<span style=\"color:red\">**Answer:**</span>"
   ]
  },
  {
   "cell_type": "code",
   "execution_count": null,
   "metadata": {},
   "outputs": [],
   "source": []
  }
 ],
 "metadata": {
  "anaconda-cloud": {},
  "kernelspec": {
   "display_name": "Python 3",
   "language": "python",
   "name": "python3"
  },
  "language_info": {
   "codemirror_mode": {
    "name": "ipython",
    "version": 3
   },
   "file_extension": ".py",
   "mimetype": "text/x-python",
   "name": "python",
   "nbconvert_exporter": "python",
   "pygments_lexer": "ipython3",
   "version": "3.6.4"
  }
 },
 "nbformat": 4,
 "nbformat_minor": 1
}
