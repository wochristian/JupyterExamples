{
 "cells": [
  {
   "cell_type": "markdown",
   "metadata": {},
   "source": [
    "<!--NAVIGATION-->\n",
    "< [Question 1](pretestQ1.ipynb) | [Return to Table of Contents](../index.ipynb) | [Question 3](pretestQ3.ipynb) >"
   ]
  },
  {
   "cell_type": "markdown",
   "metadata": {},
   "source": [
    "# Notebook Contents\n",
    "* [Programming Pre-Test (STUDENT NOTEBOOK - CONTINUED)](#Programming-Pre-Test-%28STUDENT-NOTEBOOK---CONTINUED%29)\n",
    "\t* [Question 2: Newton's Laws](#Question-2:-Newton's-Laws)\n",
    "\t\t* [Test Worksheet: [English](./ProgrammingTest_en.pdf) or [Hebrew](./ProgrammingTest_he.pdf)](#Test-Worksheet:-[English]%28./ProgrammingTest_en.pdf%29-or-[Hebrew]%28./ProgrammingTest_he.pdf%29)\n",
    "\t\t* [Question 1.A - Force body diagrams](#Question-1.A---Force-body-diagrams)\n",
    "\t\t\t* [To answer Part A within this Jupyter notebook, double-click within this cell to change to edit mode.](#To-answer-Part-A-within-this-Jupyter-notebook,-double-click-within-this-cell-to-change-to-edit-mode.)\n",
    "\t\t* [Question 2.B - Equation of motion](#Question-2.B---Equation-of-motion)\n",
    "\t\t\t* [To answer Part B within this Jupyter notebook, double-click within this cell to change to edit mode.](#To-answer-Part-B-within-this-Jupyter-notebook,-double-click-within-this-cell-to-change-to-edit-mode.)\n",
    "\t\t* [Question 2.C - Time graphs](#Question-2.C---Time-graphs)\n",
    "\t\t\t* [To answer Part C within this Jupyter notebook, double-click within this cell to change to edit mode.](#To-answer-Part-C-within-this-Jupyter-notebook,-double-click-within-this-cell-to-change-to-edit-mode.)\n",
    "\t\t* [Question 2.D - Assumptions](#Question-2.D---Assumptions)\n",
    "\t\t\t* [To answer Part D within this Jupyter notebook, double-click within this cell to change to edit mode.](#To-answer-Part-D-within-this-Jupyter-notebook,-double-click-within-this-cell-to-change-to-edit-mode.)\n",
    "\t\t* [Question 2.E - Interactions](#Question-2.E---Interactions)\n",
    "\t\t\t* [To answer Part E within this Jupyter notebook, double-click within this cell to change to edit mode.](#To-answer-Part-E-within-this-Jupyter-notebook,-double-click-within-this-cell-to-change-to-edit-mode.)\n",
    "\t\t* [Question 2.F - Improve the model](#Question-2.F---Improve-the-model)\n",
    "\t\t\t* [To answer Part D within this Jupyter notebook, double-click within this cell to change to edit mode.](#To-answer-Part-D-within-this-Jupyter-notebook,-double-click-within-this-cell-to-change-to-edit-mode.)\n",
    "\t\t* [Question 2.G - Improved equation of motion](#Question-2.G---Improved-equation-of-motion)\n",
    "\t\t\t* [To answer Part E within this Jupyter notebook, double-click within this cell to change to edit mode.](#To-answer-Part-E-within-this-Jupyter-notebook,-double-click-within-this-cell-to-change-to-edit-mode.)\n"
   ]
  },
  {
   "cell_type": "markdown",
   "metadata": {},
   "source": [
    "# Programming Pre-Test (STUDENT NOTEBOOK - CONTINUED)"
   ]
  },
  {
   "cell_type": "markdown",
   "metadata": {
    "collapsed": true
   },
   "source": [
    "## Question 2: Newton's Laws"
   ]
  },
  {
   "cell_type": "markdown",
   "metadata": {},
   "source": [
    "Carol (Student C) is interested in investigating the motion of a disk resting on an air table with metal wires on its sides.  He hits the disk and gives it an initial velocity, as a result of which the disk moves to the edge of the table and hits it at an angle.  Carol records the movement of the disk and produces a velocity-time graph from the data that he measured."
   ]
  },
  {
   "cell_type": "markdown",
   "metadata": {},
   "source": [
    "### Test Worksheet: [English](./ProgrammingTest_en.pdf) or [Hebrew](./ProgrammingTest_he.pdf)"
   ]
  },
  {
   "cell_type": "markdown",
   "metadata": {},
   "source": [
    "**Figure 4:** The experimental system (top view): Disk on an air table, colliding at an angle with the right edge of the air table. ![Alt](./airtable-collision.png \"Disk before and after collision with airtable wall.\")\n",
    "    \n",
    "\n",
    "**Building a model**\n",
    "\n",
    "Carol builds a computational model for the collision of the disk based on two assumptions: (1) The disk moves with a fixed velocity on the table before and after the collision with the edge of the table, (2) During the collision between the edge of the table and the disk, an elastic collision occurs."
   ]
  },
  {
   "cell_type": "markdown",
   "metadata": {},
   "source": [
    "### Question 1.A - Force body diagrams"
   ]
  },
  {
   "cell_type": "markdown",
   "metadata": {},
   "source": [
    "Sketch (from a side view) three diagrams of the forces acting on the disk: before, during, and after the collision, according to Carol's model. (6 pts)\n",
    "\n",
    "**Figure 5:** Side view template for force-body diagrams of disk before, during, and after collision. ![Alt](./side-view.png \"Side view of disk.\")"
   ]
  },
  {
   "cell_type": "markdown",
   "metadata": {},
   "source": [
    "#### To answer Part A within this Jupyter notebook, double-click within this cell to change to edit mode."
   ]
  },
  {
   "cell_type": "markdown",
   "metadata": {},
   "source": [
    "<span style=\"color:red\">**Answer:**</span>"
   ]
  },
  {
   "cell_type": "markdown",
   "metadata": {},
   "source": [
    "### Question 2.B - Equation of motion"
   ]
  },
  {
   "cell_type": "markdown",
   "metadata": {},
   "source": [
    "Write the equation of motion for the disk during the collision. (4 pts)"
   ]
  },
  {
   "cell_type": "markdown",
   "metadata": {},
   "source": [
    "#### To answer Part B within this Jupyter notebook, double-click within this cell to change to edit mode."
   ]
  },
  {
   "cell_type": "markdown",
   "metadata": {},
   "source": [
    "<span style=\"color:red\">**Answer:**</span>"
   ]
  },
  {
   "cell_type": "markdown",
   "metadata": {},
   "source": [
    "### Question 2.C - Time graphs"
   ]
  },
  {
   "cell_type": "markdown",
   "metadata": {},
   "source": [
    "Carol produced from the model two graphs of the components of velocity vs. time: one graph of the x component of velocity, and one graph of the y component (both graphs were produced at the same time while running the simulation).  Carol forget to label the graphs - help Carol figure out which graph is for the x component of velocity and which is for the y component, and explain your answer (use the axes in Figure 5). (5 pts)\n",
    "\n",
    "**Figure 6:**  Graphs of the components of velocity vs. time obtained from running the simulation. ![Alt](./two-graphs.png \"X and y position vs. time graphs.\")"
   ]
  },
  {
   "cell_type": "markdown",
   "metadata": {},
   "source": [
    "#### To answer Part C within this Jupyter notebook, double-click within this cell to change to edit mode."
   ]
  },
  {
   "cell_type": "markdown",
   "metadata": {},
   "source": [
    "<span style=\"color:red\">**Answer:**</span>"
   ]
  },
  {
   "cell_type": "markdown",
   "metadata": {},
   "source": [
    "### Question 2.D - Assumptions"
   ]
  },
  {
   "cell_type": "markdown",
   "metadata": {},
   "source": [
    "Carol is interested in testing the assumptions of his model regarding the forces acting on the disk by comparing the velocity vs. time graphs obtained from measurement and from the model.  Figure 6 presents two velocity-time graphs (of one of the components): one graph was obtained from the predictions of the model, and another graph from the results of measurement.  Describe the similarities and differences between them. (6 pts)\n",
    "\n",
    "**Figure 7:**   Comparison of velocity-time graphs obtained from experiment and simulation of the model. ![Alt](./sim-exp-comparison.png \"Experiment and simulation velocity-time comparison.\")"
   ]
  },
  {
   "cell_type": "markdown",
   "metadata": {},
   "source": [
    "#### To answer Part D within this Jupyter notebook, double-click within this cell to change to edit mode."
   ]
  },
  {
   "cell_type": "markdown",
   "metadata": {},
   "source": [
    "<span style=\"color:red\">**Answer:**</span>"
   ]
  },
  {
   "cell_type": "markdown",
   "metadata": {},
   "source": [
    "### Question 2.E - Interactions"
   ]
  },
  {
   "cell_type": "markdown",
   "metadata": {},
   "source": [
    "Propose an explanation of the difference between the predictions of the model and the results of measurement: Which interactions (forces) exist in reality that seem to have been disregarded by Carol's computational model?  Can you see evidence of this on the graph? Explain. (6 pts)"
   ]
  },
  {
   "cell_type": "markdown",
   "metadata": {},
   "source": [
    "#### To answer Part E within this Jupyter notebook, double-click within this cell to change to edit mode."
   ]
  },
  {
   "cell_type": "markdown",
   "metadata": {},
   "source": [
    "<span style=\"color:red\">**Answer:**</span>"
   ]
  },
  {
   "cell_type": "markdown",
   "metadata": {},
   "source": [
    "### Question 2.F - Improve the model"
   ]
  },
  {
   "cell_type": "markdown",
   "metadata": {},
   "source": [
    "Propose an improved model: Sketch a new diagram of the forces acting on the disk before and after the collision. (6 pts)\n",
    "\n",
    "**Figure 8:**   Side view template for improved force-body diagram of disks before and after collison. ![Alt](./side-view-improved.png \"Side view template for improved model.\")"
   ]
  },
  {
   "cell_type": "markdown",
   "metadata": {},
   "source": [
    "#### To answer Part D within this Jupyter notebook, double-click within this cell to change to edit mode."
   ]
  },
  {
   "cell_type": "markdown",
   "metadata": {},
   "source": [
    "<span style=\"color:red\">**Answer:**</span>"
   ]
  },
  {
   "cell_type": "markdown",
   "metadata": {},
   "source": [
    "### Question 2.G - Improved equation of motion"
   ]
  },
  {
   "cell_type": "markdown",
   "metadata": {},
   "source": [
    "**Optional section:** Sketch new diagrams of the forces acting on the disk at different stages during the collision and use the improved model to modify the equation of motion for the disk. (5 pts)"
   ]
  },
  {
   "cell_type": "markdown",
   "metadata": {},
   "source": [
    "#### To answer Part E within this Jupyter notebook, double-click within this cell to change to edit mode."
   ]
  },
  {
   "cell_type": "markdown",
   "metadata": {},
   "source": [
    "<span style=\"color:red\">**Answer:**</span>"
   ]
  },
  {
   "cell_type": "markdown",
   "metadata": {},
   "source": [
    "<!--NAVIGATION-->\n",
    "< [Question 1](pretestQ1.ipynb) | [Return to Table of Contents](../index.ipynb) | [Question 3](pretestQ3.ipynb) >"
   ]
  }
 ],
 "metadata": {
  "anaconda-cloud": {},
  "kernelspec": {
   "display_name": "Python 3",
   "language": "python",
   "name": "python3"
  },
  "language_info": {
   "codemirror_mode": {
    "name": "ipython",
    "version": 3
   },
   "file_extension": ".py",
   "mimetype": "text/x-python",
   "name": "python",
   "nbconvert_exporter": "python",
   "pygments_lexer": "ipython3",
   "version": "3.6.5"
  }
 },
 "nbformat": 4,
 "nbformat_minor": 1
}
