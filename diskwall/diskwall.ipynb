{
 "cells": [
  {
   "cell_type": "markdown",
   "metadata": {},
   "source": [
    "<!--NAVIGATION-->\n",
    "< [Return to Table of Contents](../index.ipynb) | [Disk-Disk](../diskdisk/diskdisk.ipynb) >"
   ]
  },
  {
   "cell_type": "markdown",
   "metadata": {},
   "source": [
    "Disk Wall Collisions (Instructor Key)\n",
    "===========================\n",
    "\n",
    "Develop a Phython implementation of a two-dimensional disk-wall collision and test your simulation by comparing it to your analytical calculations in the worksheet.  What happens if the time step is large or the velocity is high?\n"
   ]
  },
  {
   "cell_type": "markdown",
   "metadata": {
    "collapsed": true
   },
   "source": [
    "Calculate the force vector and the acceleration vector during the collision.\n",
    "------------------------\n",
    "\n",
    "A 200-gram disk is placed on an air table and given an initial speed. The disk moves at a constant speed and bounces from the side of the table. \n",
    "\n",
    "1. Complete the PDF worksheet to analyize this mode.\n",
    "2. Implement a computational model to display the motion of the disk.  Start with the template and add the missing code.\n",
    "\n",
    "**Figure 1:** A ball changes $v_y$ when it colides with the wall at point A: ![Alt](./collision.png \"Velocities before and after collision.\")\n",
    "\n",
    "###### Worksheet: [English](diskwall_worksheet_en.pdf) or [Hebrew](diskwall_worksheet_he.pdf)\n"
   ]
  },
  {
   "cell_type": "code",
   "execution_count": null,
   "metadata": {
    "scrolled": true
   },
   "outputs": [
    {
     "data": {
      "application/javascript": [
       "require.undef(\"nbextensions/vpython_libraries/glow.min\");"
      ],
      "text/plain": [
       "<IPython.core.display.Javascript object>"
      ]
     },
     "metadata": {},
     "output_type": "display_data"
    },
    {
     "data": {
      "application/javascript": [
       "require.undef(\"nbextensions/vpython_libraries/glowcomm\");"
      ],
      "text/plain": [
       "<IPython.core.display.Javascript object>"
      ]
     },
     "metadata": {},
     "output_type": "display_data"
    },
    {
     "data": {
      "application/javascript": [
       "require.undef(\"nbextensions/vpython_libraries/jquery-ui.custom.min\");"
      ],
      "text/plain": [
       "<IPython.core.display.Javascript object>"
      ]
     },
     "metadata": {},
     "output_type": "display_data"
    },
    {
     "data": {
      "application/javascript": [
       "require([\"nbextensions/vpython_libraries/glow.min\"], function(){console.log(\"GLOW LOADED\");})"
      ],
      "text/plain": [
       "<IPython.core.display.Javascript object>"
      ]
     },
     "metadata": {},
     "output_type": "display_data"
    },
    {
     "data": {
      "application/javascript": [
       "require([\"nbextensions/vpython_libraries/glowcomm\"], function(){console.log(\"GLOWCOMM LOADED\");})"
      ],
      "text/plain": [
       "<IPython.core.display.Javascript object>"
      ]
     },
     "metadata": {},
     "output_type": "display_data"
    },
    {
     "data": {
      "application/javascript": [
       "require([\"nbextensions/vpython_libraries/jquery-ui.custom.min\"], function(){console.log(\"JQUERY LOADED\");})"
      ],
      "text/plain": [
       "<IPython.core.display.Javascript object>"
      ]
     },
     "metadata": {},
     "output_type": "display_data"
    },
    {
     "data": {
      "text/html": [
       "<div id=\"glowscript\" class=\"glowscript\"></div>"
      ],
      "text/plain": [
       "<IPython.core.display.HTML object>"
      ]
     },
     "metadata": {},
     "output_type": "display_data"
    },
    {
     "data": {
      "application/javascript": [
       "window.__context = { glowscript_container: $(\"#glowscript\").removeAttr(\"id\")}"
      ],
      "text/plain": [
       "<IPython.core.display.Javascript object>"
      ]
     },
     "metadata": {},
     "output_type": "display_data"
    },
    {
     "data": {
      "text/html": [
       "<div id=\"glowscript\" class=\"glowscript\"></div>"
      ],
      "text/plain": [
       "<IPython.core.display.HTML object>"
      ]
     },
     "metadata": {},
     "output_type": "display_data"
    },
    {
     "data": {
      "application/javascript": [
       "window.__context = { glowscript_container: $(\"#glowscript\").removeAttr(\"id\")}"
      ],
      "text/plain": [
       "<IPython.core.display.Javascript object>"
      ]
     },
     "metadata": {},
     "output_type": "display_data"
    }
   ],
   "source": [
    "# ANSWER KEY\n",
    "from vpython import *\n",
    "\n",
    "###  Initial Conditions  ###\n",
    "dt = 0.01\n",
    "t = 0\n",
    "v = vector(1, 2, 0)\n",
    "m = 0.2\n",
    "k = 5.0\n",
    "\n",
    "### Set the scene ###\n",
    "scene=vpython.canvas(width=400, height=400, align='left')\n",
    "scene.userzoom = False\n",
    "scene.background = color.white\n",
    "scene.fov = 0.01\n",
    "scene.userzoom= False\n",
    "scene.userspin = False\n",
    "scene.autoscale = False\n",
    "run = False\n",
    "done = False\n",
    "\n",
    "### Put objects into the scene ###\n",
    "table = box(pos=vector(0, 0, -0.2), size=vector(10, 10, 0), color=color.blue)\n",
    "disk = cylinder(pos=vector(-3.0, 0, 0), radius=0.5, axis=vector(0, 0, 0.1), make_trail=True)\n",
    "v_vector = arrow(pos=vector(-3.0, 0, 0), axis=v, color=color.yellow)\n",
    "\n",
    "\n",
    "### Graph ###\n",
    "g1= graph(title='<b>v<sub>y</sub>(t)</b>',\n",
    "      xtitle='<i>t</i>', ytitle='<i>v</i><sub>y</sub>', \n",
    "      foreground=color.black, background=color.white, \n",
    "      xmin=0, xmax=10, ymin=-2.5, ymax=2.5, width=450, height=250, align='right')\n",
    "v_t = gdots(graph=g1, color=color.yellow, size=8)\n",
    "v_t.plot(pos=(t, v.y))\n",
    "\n",
    "###############  USER INMTERFACE  ###################\n",
    "def Runb(r):\n",
    "    global run\n",
    "    run = not run\n",
    "    if run:\n",
    "        r.text = \"Pause\"\n",
    "        if done: \n",
    "            reset()\n",
    "            run = True\n",
    "    else:\n",
    "        r.text = \"Run\"\n",
    "             \n",
    "Runbutton = button(text=\"Run\", pos=scene.title_anchor, bind=Runb)\n",
    "\n",
    "def reset():\n",
    "    global run, v, t, disk\n",
    "    run = False\n",
    "    Runbutton.text = \"Run\"\n",
    "    disk.pos=vector(-3.0, 0, 0);\n",
    "    disk.clear_trail()\n",
    "    v_vector.pos = disk.pos\n",
    "    v = vector(1, 2, 0)\n",
    "    v_vector.axis = v\n",
    "    t = 0\n",
    "    v_t.delete()\n",
    "    \n",
    "ResetButton=button(text=\"Reset\",pos=scene.title_anchor, bind=reset)\n",
    "\n",
    "###  Time Evolution  ###\n",
    "while  not done:\n",
    "    vpython.rate(100)\n",
    "    if not run:\n",
    "        continue\n",
    "\n",
    "    if disk.pos.y > table.size.y / 2:\n",
    "        F_net = -k * vector(0, disk.pos.y - table.size.y / 2, 0)\n",
    "    else:\n",
    "        F_net = vector(0, 0, 0)\n",
    "\n",
    "    a = F_net / m\n",
    "    v = v + a * dt\n",
    "    disk.pos = disk.pos + v * dt\n",
    "\n",
    "    v_vector.pos = disk.pos\n",
    "    v_vector.axis = v\n",
    "    v_t.plot(pos=(t, v.y))\n",
    "\n",
    "    t = t + dt"
   ]
  },
  {
   "cell_type": "markdown",
   "metadata": {},
   "source": [
    "References:\n",
    "========================\n",
    "\n",
    "The wall collisions are discussed in mechanics textbooks.\n",
    "\n",
    "-   *Analytical Mechanics 5 ed* by Grant R. Fowles and George L.\n",
    "    Cassiday, Saunders College Publishing (1993)\n",
    "\n",
    "There are many laboratory and computer experiments that build on the\n",
    "basic model.\n",
    "\n",
    "-   \"The elastic bounces of a sphere between two parallel walls\",\n",
    "    Gauri Shanker, J. M. Tavares, Am. J. Phys. **75**, 690 (2007)"
   ]
  },
  {
   "cell_type": "markdown",
   "metadata": {},
   "source": [
    "### Credits:"
   ]
  },
  {
   "cell_type": "markdown",
   "metadata": {},
   "source": [
    "The Disk Wall Collision notebook was developed by Wolfgang Christian based on a Weizmann Institue of Science program developed by Haim Erdi."
   ]
  },
  {
   "cell_type": "markdown",
   "metadata": {},
   "source": [
    "<!--NAVIGATION-->\n",
    "< [Return to Table of Contents](../index.ipynb) | [Disk-Disk](../diskdisk/diskdisk.ipynb) >"
   ]
  }
 ],
 "metadata": {
  "anaconda-cloud": {},
  "kernelspec": {
   "display_name": "Python 3",
   "language": "python",
   "name": "python3"
  },
  "language_info": {
   "codemirror_mode": {
    "name": "ipython",
    "version": 3
   },
   "file_extension": ".py",
   "mimetype": "text/x-python",
   "name": "python",
   "nbconvert_exporter": "python",
   "pygments_lexer": "ipython3",
   "version": "3.6.5"
  }
 },
 "nbformat": 4,
 "nbformat_minor": 1
}
